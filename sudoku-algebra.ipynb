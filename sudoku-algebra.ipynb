{
 "cells": [
  {
   "cell_type": "code",
   "execution_count": 21,
   "metadata": {},
   "outputs": [],
   "source": [
    "var('h,w') # height and width of Sudoku boxes\n",
    "n=h*w # size of Sudoku\n",
    "m=69 # number of relations; dimension of adjacency algebra\n",
    "load('structure_constants.sage') # nonzero p_ij^k values in dictionary format indexed by (i,j,k)\n",
    "load('degrees.sage') # row sums of adjacency matrices\n",
    "load('Mcoeffs.sage') # coefficients of M in the algebra\n",
    "load('Ecoeffs.sage') # coefficients of each eigenspace projector"
   ]
  },
  {
   "cell_type": "code",
   "execution_count": 22,
   "metadata": {},
   "outputs": [],
   "source": [
    "# multiply in adjacency algebra using coefficient lists and structure constants\n",
    "def SAAproduct(c,d):\n",
    "    return [(sum([c[i]*d[j]*structure_constants[(i,j,k)] for i in range(m) for j in range(m) if (i,j,k) in structure_constants])).full_simplify() for k in range(m)]"
   ]
  },
  {
   "cell_type": "code",
   "execution_count": 20,
   "metadata": {},
   "outputs": [],
   "source": [
    "eta=2*n/3\n",
    "Acoeffs=[(Mcoeffs[i]+eta*Ecoeffs[0][i]).full_simplify() for i in range(m)]"
   ]
  },
  {
   "cell_type": "code",
   "execution_count": 23,
   "metadata": {},
   "outputs": [],
   "source": [
    "Ainversecoeffs=[(1/eta*Ecoeffs[0][i]+sum([1/(j*n)*symbolic_projector_coeffs[j][i] for j in [1,2,3,4]])).full_simplify() for i in range(m)]"
   ]
  },
  {
   "cell_type": "code",
   "execution_count": 31,
   "metadata": {},
   "outputs": [
    {
     "name": "stdout",
     "output_type": "stream",
     "text": [
      "1: 144*h^2*w^2 + 16*h + 16*w - 5\n",
      "2: 16*h + 16*w - 5\n",
      "3: 16*w - 5\n",
      "4: 16*h + 16*w - 5\n",
      "5: 16*h + 16*w - 5\n",
      "6: 16*w - 5\n",
      "7: 16*h - 5\n",
      "8: 16*h - 5\n",
      "9: -5\n",
      "10: -72*h*w + 16*w + 11\n",
      "11: 16*w + 11\n",
      "12: 11\n",
      "13: -72*h*w + 16*w + 11\n",
      "14: 16*w + 11\n",
      "15: 11\n",
      "16: 144*h^2*w^2 + 16*h*w + 16*w - 5\n",
      "17: 16*w - 5\n",
      "18: 16*h*w + 16*w - 5\n",
      "19: 16*w - 5\n",
      "20: 16*h*w - 5\n",
      "21: -5\n",
      "22: -72*h*w + 16*h + 11\n",
      "23: 16*h + 11\n",
      "24: 11\n",
      "25: -72*h*w + 16*h + 11\n",
      "26: 16*h + 11\n",
      "27: 11\n",
      "28: -56*h*w + 11\n",
      "29: 11\n",
      "30: -56*h*w + 11\n",
      "31: 11\n",
      "32: 144*h^2*w^2 + 16*h*w + 16*h - 5\n",
      "33: 16*h - 5\n",
      "34: 16*h*w + 16*h - 5\n",
      "35: 16*h - 5\n",
      "36: 16*h*w - 5\n",
      "37: -5\n",
      "38: -72*h*w + 16*h + 16*w - 5\n",
      "39: 16*w - 5\n",
      "40: 16*h - 5\n",
      "41: -5\n",
      "42: -72*h*w + 16*h + 16*w - 5\n",
      "43: 16*w - 5\n",
      "44: 16*h - 5\n",
      "45: -5\n",
      "46: -72*h*w^2 + 16*h*w + 16*w - 5\n",
      "47: 16*w - 5\n",
      "48: 16*h*w - 5\n",
      "49: -5\n",
      "50: -72*h*w^2 + 16*h*w + 16*w - 5\n",
      "51: 16*w - 5\n",
      "52: 16*h*w - 5\n",
      "53: -5\n",
      "54: -72*h^2*w + 16*h*w + 16*h - 5\n",
      "55: 16*h - 5\n",
      "56: 16*h*w - 5\n",
      "57: -5\n",
      "58: -72*h^2*w + 16*h*w + 16*h - 5\n",
      "59: 16*h - 5\n",
      "60: 16*h*w - 5\n",
      "61: -5\n",
      "62: 144*h^2*w^2 + 16*h*w + 16*h + 16*w - 21\n",
      "63: 16*h + 16*w - 21\n",
      "64: 16*h*w + 16*w - 21\n",
      "65: 16*w - 21\n",
      "66: 16*h*w + 16*h - 21\n",
      "67: 16*h - 21\n",
      "68: 16*h*w - 21\n",
      "69: -21\n"
     ]
    }
   ],
   "source": [
    "# coefficients of Ainverse printed by relation number -- common denominator cleared\n",
    "for i in range(m):\n",
    "    print(f\"{i+1}: {expand(144*n**3*Ainversecoeffs[i])}\")"
   ]
  },
  {
   "cell_type": "code",
   "execution_count": 28,
   "metadata": {},
   "outputs": [
    {
     "name": "stdout",
     "output_type": "stream",
     "text": [
      "[1, 0, 0, 0, 0, 0, 0, 0, 0, 0, 0, 0, 0, 0, 0, 1, 0, 0, 0, 0, 0, 0, 0, 0, 0, 0, 0, 0, 0, 0, 0, 1, 0, 0, 0, 0, 0, 0, 0, 0, 0, 0, 0, 0, 0, 0, 0, 0, 0, 0, 0, 0, 0, 0, 0, 0, 0, 0, 0, 0, 0, 1, 0, 0, 0, 0, 0, 0, 0]\n"
     ]
    }
   ],
   "source": [
    "# verification that these are indeed coefficients of the inverse of A\n",
    "print(SAAproduct(Acoeffs,Ainversecoeffs))"
   ]
  },
  {
   "cell_type": "code",
   "execution_count": 33,
   "metadata": {},
   "outputs": [],
   "source": [
    "norm_pieces=[sum([Ainversecoeffs[i]*sign(Ainversecoeffs[i](h=3,w=3))*degrees[i][j] for i in range(m)]).full_simplify() for j in range(4)]"
   ]
  },
  {
   "cell_type": "code",
   "execution_count": 34,
   "metadata": {},
   "outputs": [
    {
     "data": {
      "text/plain": [
       "[244*h^2*w^2 - 42*h^2*w - 42*h*w^2 - 7*h*w,\n",
       " 228*h^2*w^2 - 26*h^2*w - 16*h*w^2 - 48*h*w + 15*h,\n",
       " 228*h^2*w^2 - 16*h^2*w - 26*h*w^2 - 48*h*w + 15*w,\n",
       " 270*h^2*w^2 - 63*h^2*w - 63*h*w^2 - 32*h*w + 31*h + 31*w - 21]"
      ]
     },
     "execution_count": 34,
     "metadata": {},
     "output_type": "execute_result"
    }
   ],
   "source": [
    "[expand(72*n^3*x) for x in norm_pieces]"
   ]
  },
  {
   "cell_type": "code",
   "execution_count": null,
   "metadata": {},
   "outputs": [],
   "source": []
  }
 ],
 "metadata": {
  "kernelspec": {
   "display_name": "SageMath 9.2",
   "language": "sage",
   "name": "sagemath"
  },
  "language_info": {
   "codemirror_mode": {
    "name": "ipython",
    "version": 3
   },
   "file_extension": ".py",
   "mimetype": "text/x-python",
   "name": "python",
   "nbconvert_exporter": "python",
   "pygments_lexer": "ipython3",
   "version": "3.7.7"
  }
 },
 "nbformat": 4,
 "nbformat_minor": 4
}
